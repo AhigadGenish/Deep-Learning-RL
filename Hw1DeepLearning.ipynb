{
 "cells": [
  {
   "cell_type": "code",
   "execution_count": 1,
   "metadata": {
    "dotnet_interactive": {
     "language": "csharp"
    },
    "polyglot_notebook": {
     "kernelName": "csharp"
    }
   },
   "outputs": [
    {
     "name": "stderr",
     "output_type": "stream",
     "text": [
      "C:\\Users\\USER\\AppData\\Local\\Temp\\ipykernel_9668\\831505131.py:2: DeprecationWarning: \n",
      "Pyarrow will become a required dependency of pandas in the next major release of pandas (pandas 3.0),\n",
      "(to allow more performant data types, such as the Arrow string type, and better interoperability with other libraries)\n",
      "but was not found to be installed on your system.\n",
      "If this would cause problems for you,\n",
      "please provide us feedback at https://github.com/pandas-dev/pandas/issues/54466\n",
      "        \n",
      "  import pandas as pd # data processing, CSV file I/O (e.g. pd.read_csv)\n"
     ]
    }
   ],
   "source": [
    "import numpy as np # linear algebra\n",
    "import pandas as pd # data processing, CSV file I/O (e.g. pd.read_csv)\n",
    "import matplotlib.pyplot as plt  # for plotting\n",
    "# import torch\n",
    "# import torchvision\n",
    "import torchvision.datasets as datasets\n",
    "import pprint\n",
    "\n",
    "np.random.seed(42)  # fixing seed. Important for reproducibility!"
   ]
  },
  {
   "cell_type": "code",
   "execution_count": 133,
   "metadata": {},
   "outputs": [
    {
     "name": "stdout",
     "output_type": "stream",
     "text": [
      "Initial parameters:\n",
      "Initial w [[-1.10358932]\n",
      " [ 0.17989415]]\n",
      "Initial u [[ 4.59158303 -7.85250302]\n",
      " [-4.94814068  4.70385594]]\n",
      "Initial b1 [[-2.94746218]\n",
      " [-0.67389945]]\n",
      "Initial b2 [[2.78400457]]\n",
      "Final parameters: \n",
      "W final:  [[0.3896634 ]\n",
      " [0.28845681]]\n",
      "U final:  [[ 4.36827879 -7.7575056 ]\n",
      " [-4.97856352  4.70969914]]\n",
      "b1 final:  [[-1.66187833]\n",
      " [-0.59597756]]\n",
      "b2 final:  [[-0.2676758]]\n",
      "Loss final:  0.2820332753675494\n"
     ]
    },
    {
     "data": {
      "image/png": "[encoded data removed]",
      "text/plain": [
       "<Figure size 640x480 with 1 Axes>"
      ]
     },
     "metadata": {},
     "output_type": "display_data"
    }
   ],
   "source": [
    "# Deep Learnign HW 1 - Gradient Descent\n",
    "# Ahigad Genish ID -316228022\n",
    "# Omer Sela ID - 316539535\n",
    "\n",
    "# Initialize data:\n",
    "train_labels = np.array([-1, 1, 1, -1])\n",
    "train_data = np.array([[0, 0], [0, 1], [1, 0], [1, 1]])\n",
    "\n",
    "\n",
    "# Hyperparameters\n",
    "learning_rate = 0.0005\n",
    "epochs = 1000\n",
    "\n",
    "# Parameters\n",
    "w = np.random.normal(0, 1, (2, 1))\n",
    "b2 = np.random.normal(0, 2, (1, 1))\n",
    "u = np.random.normal(0,5, (2, 2))\n",
    "b1 = np.random.normal(0, 3, (2, 1))\n",
    "\n",
    "print(\"Initial parameters:\")\n",
    "print(\"Initial w\", w)\n",
    "print(\"Initial u\", u)\n",
    "print(\"Initial b1\", b1)\n",
    "print(\"Initial b2\", b2)\n",
    "\n",
    "\n",
    "# ReLU activation function\n",
    "def relu(x):\n",
    "    return np.maximum(0, x)\n",
    "\n",
    "# Calculate f(x) = w.T * h + b2 where h = max(U.T * x + b1, 0)\n",
    "def calculateFunc(xi):\n",
    "    h = relu(np.dot(u.T, xi) + b1)\n",
    "    y = np.dot(w.T, h) + b2\n",
    "    return y\n",
    "\n",
    "# Derivate Loss function by W\n",
    "def dl_dw(predictions):\n",
    "\n",
    "    sum = 0\n",
    "    for i in range(len(train_data)):\n",
    "        sum += -2 * (np.dot(relu(np.dot(u.T, train_data[i][:, np.newaxis]) + b1), (train_labels[i] - predictions[i]))) \n",
    "    return sum\n",
    "\n",
    "# Derivate Loss function by U\n",
    "def dl_du(predictions):\n",
    "\n",
    "    sum = 0\n",
    "    for i in range(len(train_data)):\n",
    "        if(np.any(np.maximum(np.dot(u.T, train_data[i][:, np.newaxis]) + b1 , 0)) > 0):\n",
    "             sum += -2 * np.dot(w,train_data[i][:, np.newaxis].T)* (train_labels[i] - predictions[i])\n",
    "    return sum\n",
    "\n",
    "# Derivate Loss function by b1\n",
    "def dl_db1(predictions):\n",
    "\n",
    "    sum = 0\n",
    "    for i in range(len(train_data)):\n",
    "        sum += -2 * w * (train_labels[i] - predictions[i])\n",
    "    return sum\n",
    "\n",
    "# Derivate Loss function by b2\n",
    "def dl_db2(predictions):\n",
    "    sum = 0\n",
    "    for i in range(len(train_data)):\n",
    "        sum += -2 * (train_labels[i] - predictions[i])\n",
    "    return sum\n",
    "\n",
    "# Calculate Loss function L(y, f(x)) = (y - f(x))^2\n",
    "def lossFunc(predictions):\n",
    "    predictions = np.array([calculateFunc(xi[:, np.newaxis]) for xi in train_data])\n",
    "    squared_diff = np.square(train_labels - predictions.flatten())\n",
    "    total_loss = np.sum(squared_diff)/len(train_data)\n",
    "    return total_loss\n",
    "\n",
    "# Train\n",
    "# Gradient Descent training loop\n",
    "losses = []\n",
    "\n",
    "for epoch in range(epochs):\n",
    "\n",
    "    # Forward pass\n",
    "    predictions = np.array([calculateFunc(xi[:, np.newaxis]) for xi in train_data])\n",
    "\n",
    "    # Compute the loss\n",
    "    loss = lossFunc(predictions)\n",
    "    losses.append(loss)\n",
    "\n",
    "    \n",
    "    # Backward pass (Gradient Descent)\n",
    "    gradient_w = dl_dw(predictions)\n",
    "    gradient_u = dl_du(predictions)\n",
    "    gradient_b1 = dl_db1(predictions)\n",
    "    gradient_b2 = dl_db2(predictions)\n",
    "\n",
    "\n",
    "    # Update weights and biases\n",
    "    w -= learning_rate * gradient_w\n",
    "    u -= learning_rate * gradient_u\n",
    "    b1 -= learning_rate * gradient_b1\n",
    "    b2 -= learning_rate * gradient_b2\n",
    "\n",
    "print(\"Final parameters: \")\n",
    "print(\"W final: \" , w)\n",
    "print(\"U final: \" , u)\n",
    "print(\"b1 final: \" ,b1)\n",
    "print(\"b2 final: \" , b2)\n",
    "print(\"Loss final: \" , loss)\n",
    "\n",
    "\n",
    "# Plot the loss over epochs\n",
    "plt.plot(range(epochs), losses)\n",
    "plt.xlabel('Epochs')\n",
    "plt.ylabel('Loss')\n",
    "plt.title('Gradient Descent Optimization')\n",
    "plt.show()"
   ]
  }
 ],
 "metadata": {
  "kernelspec": {
   "display_name": "Python 3",
   "language": "python",
   "name": "python3"
  },
  "language_info": {
   "codemirror_mode": {
    "name": "ipython",
    "version": 3
   },
   "file_extension": ".py",
   "mimetype": "text/x-python",
   "name": "python",
   "nbconvert_exporter": "python",
   "pygments_lexer": "ipython3",
   "version": "3.10.11"
  },
  "polyglot_notebook": {
   "kernelInfo": {
    "defaultKernelName": "csharp",
    "items": [
     {
      "aliases": [],
      "name": "csharp"
     }
    ]
   }
  }
 },
 "nbformat": 4,
 "nbformat_minor": 2
}
